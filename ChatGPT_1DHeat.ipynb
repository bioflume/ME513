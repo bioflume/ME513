{
 "cells": [
  {
   "cell_type": "code",
   "execution_count": 2,
   "id": "66c491f5",
   "metadata": {},
   "outputs": [
    {
     "data": {
      "image/png": "[encoded data removed]",
      "text/plain": [
       "<Figure size 432x288 with 1 Axes>"
      ]
     },
     "metadata": {
      "needs_background": "light"
     },
     "output_type": "display_data"
    }
   ],
   "source": [
    "import numpy as np\n",
    "import matplotlib.pyplot as plt\n",
    "from matplotlib.animation import FuncAnimation\n",
    "\n",
    "# Constants\n",
    "L = 0.1    # length of beam in meters\n",
    "A = 0.01   # area of beam in square meters\n",
    "k = 60     # thermal conductivity of steel in W/(m*K)\n",
    "rho = 7850 # density of steel in kg/m^3\n",
    "Cp = 480   # specific heat capacity of steel in J/(kg*K)\n",
    "T0 = 373.15 # temperature at one end of the beam in Kelvin\n",
    "T1 = 273.15 # temperature at the other end of the beam in Kelvin\n",
    "dx = 0.002 # distance step size in meters\n",
    "dt = 0.001  # time step size in seconds\n",
    "t_end = 2 # end time in seconds\n",
    "\n",
    "# Derived constants\n",
    "alpha = k / (rho * Cp * A)\n",
    "N = int(L/dx)\n",
    "M = int(t_end/dt)\n",
    "\n",
    "# Initial conditions\n",
    "T = np.zeros((N, M))\n",
    "T[:,0] = T1\n",
    "\n",
    "# Boundary conditions\n",
    "T[0,:] = T0\n",
    "T[-1,:] = T1\n",
    "\n",
    "# Heat equation solver\n",
    "for i in range(0, M-1):\n",
    "    for j in range(1, N-1):\n",
    "        T[j,i+1] = T[j,i] + alpha * (T[j+1,i] - 2*T[j,i] + T[j-1,i]) * dt / dx**2\n",
    "\n",
    "# Plotting function\n",
    "fig, ax = plt.subplots()\n",
    "line, = ax.plot([], [], lw=2)\n",
    "ax.set_xlim(0, L)\n",
    "ax.set_ylim(273, 373)\n",
    "ax.set_xlabel('Distance (m)')\n",
    "ax.set_ylabel('Temperature (K)')\n",
    "ax.set_title('1D Heat Transfer along a Steel Beam')\n",
    "time_text = ax.text(0.05, 0.95, '', transform=ax.transAxes)\n",
    "\n",
    "# Animation function\n",
    "def animate(i):\n",
    "    line.set_data(np.linspace(0, L, N), T[:,i])\n",
    "    time_text.set_text('Time = {} s'.format(round(i*dt, 3)))\n",
    "    return line, time_text\n",
    "\n",
    "# Create animation\n",
    "anim = FuncAnimation(fig, animate, frames=M, interval=1, blit=True)\n",
    "\n",
    "# Show plot\n",
    "plt.show()"
   ]
  }
 ],
 "metadata": {
  "kernelspec": {
   "display_name": "Python 3 (ipykernel)",
   "language": "python",
   "name": "python3"
  },
  "language_info": {
   "codemirror_mode": {
    "name": "ipython",
    "version": 3
   },
   "file_extension": ".py",
   "mimetype": "text/x-python",
   "name": "python",
   "nbconvert_exporter": "python",
   "pygments_lexer": "ipython3",
   "version": "3.9.12"
  }
 },
 "nbformat": 4,
 "nbformat_minor": 5
}
