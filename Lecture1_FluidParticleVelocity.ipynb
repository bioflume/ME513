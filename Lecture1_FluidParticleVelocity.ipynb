{
 "cells": [
  {
   "cell_type": "markdown",
   "id": "3bda25d3",
   "metadata": {},
   "source": [
    "In this example, we find the velocity and acceleration of a fluid particle whose position vector is given as a function of time. The particle starts at the origin of the coordiate axis at a time zero. \n",
    "\n",
    "The position vector is \n",
    "\\begin{equation}\n",
    "\\mathbf{x} (t) = (3 m/s)\\left(t + \\left(\\frac{5}{2}s^{-1}\\right)t^2\\right)\\,\\mathbf{i} + (2 m/s)t\\,\\mathbf{j}\n",
    "\\end{equation}"
   ]
  },
  {
   "cell_type": "markdown",
   "id": "42738ed0",
   "metadata": {},
   "source": [
    "The velocity vector is then calculated as\n",
    "\\begin{equation}\n",
    "\\mathbf{v}(t) = \\frac{d \\mathbf{x}(t)}{dt} = \\frac{d}{dt}\\left[(3m/s)\\left(t+\\left(\\frac{5}{2}s^{-1}\\right)t^2 \\right)\\right]\\, \\mathbf{i} + \\frac{d}{dt}[(2m/s)t]\\, \\mathbf{j}\n",
    "\\end{equation}\n",
    "\n",
    "It becomes\n",
    "\\begin{equation}\n",
    "\\mathbf{v}(t) = [(3m/s)(1 + (5s^{-1})t] \\, \\mathbf{i} + [(2m/s)]\\, \\mathbf{j}\n",
    "\\end{equation}\n",
    "\n",
    "The acceleration is defined as the time rate of change of the velocity vector.\n",
    "\\begin{equation}\n",
    "\\mathbf{a}(t) = \\frac{d\\mathbf{v}(t)}{dt} = \\frac{d}{dt}[(3m/s)(1+(5s^{-1})t]\\, \\mathbf{i} + \\frac{d}{dt} [(2m/s)]\\, \\mathbf{j}\n",
    "\\end{equation}\n",
    "\n",
    "\\begin{equation}\n",
    "\\mathbf{a}(t) = 15\\frac{m}{s^2} \\, \\mathbf{i}\n",
    "\\end{equation}"
   ]
  },
  {
   "cell_type": "code",
   "execution_count": 2,
   "id": "2f893b09",
   "metadata": {},
   "outputs": [],
   "source": [
    "import numpy as np\n",
    "import matplotlib.pyplot as plt\n",
    "\n",
    "# Position vector's components\n",
    "position_x = lambda t: 3.0 * (t + 2.5 * t**2)\n",
    "position_y = lambda t: 2.0 * t\n",
    "\n",
    "# Velocity vector's components\n",
    "velocity_x = lambda t: 3.0 * (1.0 + 5.0*t)\n",
    "velocity_y = lambda t: 2.0\n",
    "\n",
    "# Acceleration vector's x-component\n",
    "acceleration_x = lambda t: 15.0\n"
   ]
  },
  {
   "cell_type": "code",
   "execution_count": 3,
   "id": "a3bce800",
   "metadata": {},
   "outputs": [
    {
     "name": "stdout",
     "output_type": "stream",
     "text": [
      "At time =  0\n",
      "X-position (m):  0.0\n",
      "Y-position (m):  0.0\n",
      " \n",
      "X-velocity (m/s):  3.0\n",
      "Y-velocity (m/s):  2.0\n",
      " \n",
      "X-acceleration (m/s2):  15.0\n",
      "*********************************************\n",
      "At time =  1\n",
      "X-position (m):  10.5\n",
      "Y-position (m):  2.0\n",
      " \n",
      "X-velocity (m/s):  18.0\n",
      "Y-velocity (m/s):  2.0\n",
      " \n",
      "X-acceleration (m/s2):  15.0\n",
      "*********************************************\n",
      "At time =  2\n",
      "X-position (m):  36.0\n",
      "Y-position (m):  4.0\n",
      " \n",
      "X-velocity (m/s):  33.0\n",
      "Y-velocity (m/s):  2.0\n",
      " \n",
      "X-acceleration (m/s2):  15.0\n",
      "*********************************************\n",
      "At time =  4\n",
      "X-position (m):  132.0\n",
      "Y-position (m):  8.0\n",
      " \n",
      "X-velocity (m/s):  63.0\n",
      "Y-velocity (m/s):  2.0\n",
      " \n",
      "X-acceleration (m/s2):  15.0\n",
      "*********************************************\n"
     ]
    }
   ],
   "source": [
    "# Calculate the position, velocity and acceleration at times 0, 1s, 2s, 4s\n",
    "times = np.array([0, 1, 2, 4])\n",
    "posX_vec = np.zeros_like(times)\n",
    "posY_vec = np.zeros_like(times)\n",
    "velX_vec = np.zeros_like(times)\n",
    "velY_vec = np.zeros_like(times)\n",
    "for j, t in enumerate(times):\n",
    "    posX_vec[j], posY_vec[j] = position_x(t), position_y(t)\n",
    "    velX_vec[j], velY_vec[j] = velocity_x(t), velocity_y(t)\n",
    "    print('At time = ', t)\n",
    "    print('X-position (m): ', position_x(t))\n",
    "    print('Y-position (m): ', position_y(t))\n",
    "    print(' ')\n",
    "    print('X-velocity (m/s): ', velocity_x(t))\n",
    "    print('Y-velocity (m/s): ', velocity_y(t))\n",
    "    print(' ')\n",
    "    print('X-acceleration (m/s2): ', acceleration_x(t))\n",
    "    print('*********************************************')\n"
   ]
  },
  {
   "cell_type": "code",
   "execution_count": 4,
   "id": "f807ef50",
   "metadata": {},
   "outputs": [
    {
     "data": {
      "image/png": "[encoded data removed]",
      "text/plain": [
       "<Figure size 432x288 with 1 Axes>"
      ]
     },
     "metadata": {
      "needs_background": "light"
     },
     "output_type": "display_data"
    }
   ],
   "source": [
    "# Plot the position of the particle and also the velocity arrows\n",
    "plt.plot(posX_vec, posY_vec, 'ks')\n",
    "plt.quiver(posX_vec, posY_vec, velX_vec, velY_vec)\n",
    "plt.xlim([-10, 150])\n",
    "plt.ylim([-1, 10])\n",
    "plt.show()"
   ]
  },
  {
   "cell_type": "code",
   "execution_count": 31,
   "id": "e3ec3882",
   "metadata": {},
   "outputs": [
    {
     "name": "stdout",
     "output_type": "stream",
     "text": [
      "[ 3 18 33 63]\n"
     ]
    }
   ],
   "source": []
  },
  {
   "cell_type": "code",
   "execution_count": 32,
   "id": "18b3e3af",
   "metadata": {},
   "outputs": [
    {
     "name": "stdout",
     "output_type": "stream",
     "text": [
      "[2 2 2 2]\n"
     ]
    }
   ],
   "source": []
  },
  {
   "cell_type": "code",
   "execution_count": null,
   "id": "605a2eac",
   "metadata": {},
   "outputs": [],
   "source": []
  }
 ],
 "metadata": {
  "kernelspec": {
   "display_name": "Python 3 (ipykernel)",
   "language": "python",
   "name": "python3"
  },
  "language_info": {
   "codemirror_mode": {
    "name": "ipython",
    "version": 3
   },
   "file_extension": ".py",
   "mimetype": "text/x-python",
   "name": "python",
   "nbconvert_exporter": "python",
   "pygments_lexer": "ipython3",
   "version": "3.9.12"
  }
 },
 "nbformat": 4,
 "nbformat_minor": 5
}
