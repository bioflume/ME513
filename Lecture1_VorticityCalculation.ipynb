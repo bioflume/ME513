{
 "cells": [
  {
   "cell_type": "markdown",
   "id": "4ad7e2c1",
   "metadata": {},
   "source": [
    "We want to calculate the vorticity of the following velocity field:\n",
    "\n",
    "\\begin{equation}\n",
    "\\mathbf{v} = \\left[Cz \\sin(xy) + Cxy \\cos(xy)\\right] \\, \\mathbf{i} + Cx^2 z \\cos(xy) \\, \\mathbf{j} + Cx \\sin(xy) \\, \\mathbf{k}\n",
    "\\end{equation}\n",
    "\n",
    "Then, we will decide if the flow is rotational or not."
   ]
  },
  {
   "cell_type": "code",
   "execution_count": 5,
   "id": "37b922e3",
   "metadata": {},
   "outputs": [
    {
     "name": "stdout",
     "output_type": "stream",
     "text": [
      "(X.x*X.y*X.z*C*cos(X.x*X.y) + X.z*C*sin(X.x*X.y))*X.i + (X.x**2*X.z*C*cos(X.x*X.y))*X.j + (X.x*C*sin(X.x*X.y))*X.k\n"
     ]
    }
   ],
   "source": [
    "import numpy as np\n",
    "import sympy as sp\n",
    "from sympy.vector import CoordSys3D, Curl\n",
    "\n",
    "# Create symbol C \n",
    "C = sp.symbols(\"C\")\n",
    "\n",
    "# Vorticity is the curl of the velocity field\n",
    "# first define the coordinate system\n",
    "X = CoordSys3D('X')\n",
    "Velocity = (C*X.z*sp.sin(X.x * X.y) + C*X.x*X.y*X.z*sp.cos(X.x*X.y))*X.i + (C*X.x**2*X.z*sp.cos(X.x*X.y))*X.j + (C*X.x*sp.sin(X.x*X.y))*X.k\n",
    "print(Velocity)\n"
   ]
  },
  {
   "cell_type": "code",
   "execution_count": 9,
   "id": "57bd4097",
   "metadata": {},
   "outputs": [
    {
     "data": {
      "text/latex": [
       "$\\displaystyle \\nabla\\times \\left((\\mathbf{{x}_{X}} \\mathbf{{y}_{X}} \\mathbf{{z}_{X}} C \\cos{\\left(\\mathbf{{x}_{X}} \\mathbf{{y}_{X}} \\right)} + \\mathbf{{z}_{X}} C \\sin{\\left(\\mathbf{{x}_{X}} \\mathbf{{y}_{X}} \\right)})\\mathbf{\\hat{i}_{X}} + (\\mathbf{{x}_{X}}^{2} \\mathbf{{z}_{X}} C \\cos{\\left(\\mathbf{{x}_{X}} \\mathbf{{y}_{X}} \\right)})\\mathbf{\\hat{j}_{X}} + (\\mathbf{{x}_{X}} C \\sin{\\left(\\mathbf{{x}_{X}} \\mathbf{{y}_{X}} \\right)})\\mathbf{\\hat{k}_{X}}\\right)$"
      ],
      "text/plain": [
       "Curl((X.x*X.y*X.z*C*cos(X.x*X.y) + X.z*C*sin(X.x*X.y))*X.i + (X.x**2*X.z*C*cos(X.x*X.y))*X.j + (X.x*C*sin(X.x*X.y))*X.k)"
      ]
     },
     "execution_count": 9,
     "metadata": {},
     "output_type": "execute_result"
    }
   ],
   "source": [
    "# Take the curl of the velocity field\n",
    "Curl(Velocity)"
   ]
  },
  {
   "cell_type": "code",
   "execution_count": 10,
   "id": "9b00de10",
   "metadata": {},
   "outputs": [
    {
     "data": {
      "text/latex": [
       "$\\displaystyle \\mathbf{\\hat{0}}$"
      ],
      "text/plain": [
       "0"
      ]
     },
     "execution_count": 10,
     "metadata": {},
     "output_type": "execute_result"
    }
   ],
   "source": [
    "# Now simplify\n",
    "Curl(Velocity).doit()"
   ]
  },
  {
   "cell_type": "markdown",
   "id": "bc966def",
   "metadata": {},
   "source": [
    "Since the curl of the velocity field is zero, the flow is not rotational"
   ]
  },
  {
   "cell_type": "code",
   "execution_count": null,
   "id": "70ad07fa",
   "metadata": {},
   "outputs": [],
   "source": []
  }
 ],
 "metadata": {
  "kernelspec": {
   "display_name": "Python 3 (ipykernel)",
   "language": "python",
   "name": "python3"
  },
  "language_info": {
   "codemirror_mode": {
    "name": "ipython",
    "version": 3
   },
   "file_extension": ".py",
   "mimetype": "text/x-python",
   "name": "python",
   "nbconvert_exporter": "python",
   "pygments_lexer": "ipython3",
   "version": "3.9.12"
  }
 },
 "nbformat": 4,
 "nbformat_minor": 5
}
